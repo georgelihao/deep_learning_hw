{
 "cells": [
  {
   "cell_type": "markdown",
   "metadata": {
    "colab_type": "text",
    "id": "XW5zkgqrBQzh"
   },
   "source": [
    "# Important: You have to run logistic_regression_multi_2Layer.ipynb first before running this code\n"
   ]
  },
  {
   "cell_type": "code",
   "execution_count": 1,
   "metadata": {
    "ExecuteTime": {
     "end_time": "2018-09-20T01:58:49.569152Z",
     "start_time": "2018-09-20T01:58:48.721454Z"
    },
    "colab": {},
    "colab_type": "code",
    "id": "5s3xwscaBQzl",
    "outputId": "1b240c36-c4f5-4967-8c74-f7a4f492423a"
   },
   "outputs": [
    {
     "name": "stdout",
     "output_type": "stream",
     "text": [
      "2.7.0\n"
     ]
    }
   ],
   "source": [
    "import os\n",
    "\n",
    "#import tensorflow as tf\n",
    "import tensorflow.compat.v1 as tf\n",
    "tf.compat.v1.disable_eager_execution()\n",
    "print(tf.__version__)\n",
    "\n",
    "import time\n",
    "\n",
    "import numpy as np # linear algebra\n",
    "import matplotlib.pyplot as plt\n",
    "\n",
    "\n",
    "# generate original training and test data\n",
    "img_size = 28\n",
    "n_classes = 10\n",
    "\n",
    "#MNIST data image of shape 28*28=784\n",
    "input_size = 784\n",
    "\n",
    "# 0-9 digits recognition (labels)\n",
    "output_size = 10\n"
   ]
  },
  {
   "cell_type": "code",
   "execution_count": 2,
   "metadata": {},
   "outputs": [
    {
     "name": "stdout",
     "output_type": "stream",
     "text": [
      "\n",
      "Loading MNIST\n",
      "\n",
      "Spliting data\n",
      "54000 6000 10000\n"
     ]
    }
   ],
   "source": [
    "#------------------------------------------------------------\n",
    "#option 1: load MNIST dataset \n",
    "#from tensorflow.examples.tutorials.mnist import input_data\n",
    "#mnist = input_data.read_data_sets(\"data/\", one_hot=True)\n",
    "\n",
    "\n",
    "#------------------------------------------------------------\n",
    "#option 2: load MNIST dataset \n",
    "print('\\nLoading MNIST')\n",
    "mnist = tf.keras.datasets.mnist\n",
    "(x_train, y_train), (x_test, y_test) = mnist.load_data()\n",
    "\n",
    "x_train = np.reshape(x_train, [-1, img_size*img_size])\n",
    "x_train = x_train.astype(np.float32)/255\n",
    "\n",
    "x_test = np.reshape(x_test, [-1, img_size*img_size])\n",
    "x_test = x_test.astype(np.float32)/255\n",
    "\n",
    "to_categorical = tf.keras.utils.to_categorical \n",
    "y_train = to_categorical(y_train)\n",
    "y_test  = to_categorical(y_test)\n",
    "\n",
    "print('\\nSpliting data')\n",
    "\n",
    "ind = np.random.permutation(x_train.shape[0])\n",
    "x_train, y_train = x_train[ind], y_train[ind]\n",
    "\n",
    "# 10% for validation \n",
    "validatationPct = 0.1\n",
    "n = int(x_train.shape[0] * (1-validatationPct))\n",
    "x_valid = x_train[n:]\n",
    "x_train = x_train[:n]\n",
    "#\n",
    "y_valid = y_train[n:]\n",
    "y_train = y_train[:n]\n",
    "\n",
    "train_num_examples = x_train.shape[0]\n",
    "valid_num_examples = x_valid.shape[0]\n",
    "test_num_examples  = x_test.shape[0]\n",
    "\n",
    "print(train_num_examples, valid_num_examples, test_num_examples)"
   ]
  },
  {
   "cell_type": "markdown",
   "metadata": {
    "ExecuteTime": {
     "end_time": "2018-09-19T22:03:55.082812Z",
     "start_time": "2018-09-19T22:03:55.079720Z"
    },
    "colab_type": "text",
    "id": "nMuFUzhbBQzt"
   },
   "source": [
    "# Parameters (have to be consistent with logistic_regression_multi_2layer)"
   ]
  },
  {
   "cell_type": "code",
   "execution_count": 3,
   "metadata": {
    "ExecuteTime": {
     "end_time": "2018-09-20T01:59:02.285613Z",
     "start_time": "2018-09-20T01:59:02.277606Z"
    },
    "colab": {},
    "colab_type": "code",
    "id": "cAGZzNr5BQzv"
   },
   "outputs": [],
   "source": [
    "#Network Hidden Layers Parameters\n",
    "n_hidden_1 = 200\n",
    "n_hidden_2 = 300\n",
    "\n",
    "#Input and Output Layers Parameters\n",
    "input_size = 784\n",
    "output_size = 10\n",
    "\n",
    "#change it to your own path \n",
    "#log_files_path = './checkpoints/'\n",
    "#log_files_path = 'C:/Users/Ali/logs/'"
   ]
  },
  {
   "cell_type": "markdown",
   "metadata": {
    "colab_type": "text",
    "id": "XmeMrQaABQzz"
   },
   "source": [
    "# Definition of the Layer Function"
   ]
  },
  {
   "cell_type": "code",
   "execution_count": 4,
   "metadata": {
    "ExecuteTime": {
     "end_time": "2018-09-20T01:59:03.814451Z",
     "start_time": "2018-09-20T01:59:03.796629Z"
    },
    "colab": {},
    "colab_type": "code",
    "id": "VPF3sK0QBQz1"
   },
   "outputs": [],
   "source": [
    "def layer(x, weight_shape, bias_shape):\n",
    "    \"\"\"\n",
    "    Defines the network layers\n",
    "    input:\n",
    "        - x: input vector of the layer\n",
    "        - weight_shape: shape the the weight maxtrix\n",
    "        - bias_shape: shape of the bias vector\n",
    "    output:\n",
    "        - output vector of the layer after the matrix multiplication and non linear transformation\n",
    "    \"\"\"\n",
    "    print('inside layer')\n",
    "    \n",
    "    # comes from the study by He et al. for ReLU layers\n",
    "    w_std = (2.0/weight_shape[0])**0.5\n",
    "    \n",
    "    #initialization of the weights\n",
    "    w_0 = tf.random_normal_initializer(stddev=w_std)\n",
    "\n",
    "    b_0 = tf.constant_initializer(value=0)\n",
    "    \n",
    "    W = tf.get_variable(\"W\", weight_shape, initializer=w_0)\n",
    "    b = tf.get_variable(\"b\", bias_shape,   initializer=b_0)\n",
    "    \n",
    "    # different activation functions\n",
    "    # you can try either \n",
    "\n",
    "    #return tf.nn.relu(tf.matmul(x, W) + b)\n",
    "    return tf.matmul(x, W) + b"
   ]
  },
  {
   "cell_type": "markdown",
   "metadata": {
    "colab_type": "text",
    "id": "RHvf_47nBQz5"
   },
   "source": [
    "# Define Inference Function"
   ]
  },
  {
   "cell_type": "code",
   "execution_count": 5,
   "metadata": {
    "ExecuteTime": {
     "end_time": "2018-09-20T01:59:05.120581Z",
     "start_time": "2018-09-20T01:59:05.107111Z"
    },
    "colab": {},
    "colab_type": "code",
    "id": "u5G3DQ_EBQz7"
   },
   "outputs": [],
   "source": [
    "def inference(x):\n",
    "    \"\"\"\n",
    "    define the whole network (2 hidden layers + output layers)\n",
    "    input:\n",
    "        - a batch of pictures \n",
    "        (input shape = (batch_size*image_size))\n",
    "    output:\n",
    "        - a batch vector corresponding to the logits predicted by the network\n",
    "        (output shape = (batch_size*output_size)) \n",
    "    \"\"\"\n",
    "    \n",
    "    with tf.variable_scope(\"hidden_layer_1\"):\n",
    "        hidden_1 = layer(x, [input_size, n_hidden_1], [n_hidden_1])\n",
    "        #print([input_size, n_hidden_1])\n",
    "    \n",
    "    with tf.variable_scope(\"hidden_layer_2\"):\n",
    "        hidden_2 = layer(hidden_1, [n_hidden_1, n_hidden_2], [n_hidden_2])\n",
    "        #print([n_hidden_1, n_hidden_2])\n",
    "     \n",
    "    with tf.variable_scope(\"output\"):\n",
    "        output = layer(hidden_2, [n_hidden_2, output_size], [output_size])\n",
    "        #print([n_hidden_2, output_size])\n",
    "\n",
    "    return output"
   ]
  },
  {
   "cell_type": "markdown",
   "metadata": {
    "colab_type": "text",
    "id": "NtrNWTjABQz_"
   },
   "source": [
    "# Define Loss Function"
   ]
  },
  {
   "cell_type": "code",
   "execution_count": 6,
   "metadata": {
    "ExecuteTime": {
     "end_time": "2018-09-20T01:59:07.775648Z",
     "start_time": "2018-09-20T01:59:07.769327Z"
    },
    "colab": {},
    "colab_type": "code",
    "id": "9auCMNBxBQ0A"
   },
   "outputs": [],
   "source": [
    "def loss(output, y):\n",
    "    \"\"\"\n",
    "    Computes softmax cross entropy between logits and labels and then the loss \n",
    "    \n",
    "    intput:\n",
    "        - output: the output of the inference function \n",
    "        - y: true value of the sample batch\n",
    "        \n",
    "        the two have the same shape (batch_size * num_of_classes)\n",
    "    output:\n",
    "        - loss: loss of the corresponding batch (scalar tensor)\n",
    "    \n",
    "    \"\"\"\n",
    "    #Computes softmax cross entropy between logits and labels.\n",
    "    xentropy = tf.nn.softmax_cross_entropy_with_logits(logits=output, labels=y)\n",
    "    loss = tf.reduce_mean(xentropy)\n",
    "\n",
    "    return loss"
   ]
  },
  {
   "cell_type": "markdown",
   "metadata": {
    "colab_type": "text",
    "id": "fgPL0LIWBQ0F"
   },
   "source": [
    "# Main "
   ]
  },
  {
   "cell_type": "code",
   "execution_count": 7,
   "metadata": {
    "ExecuteTime": {
     "end_time": "2018-09-20T01:59:09.333152Z",
     "start_time": "2018-09-20T01:59:09.003257Z"
    },
    "colab": {},
    "colab_type": "code",
    "id": "5TiBa3yKBQ0H",
    "outputId": "ce1ccbea-0e1e-44da-b55a-27135754e243"
   },
   "outputs": [
    {
     "name": "stdout",
     "output_type": "stream",
     "text": [
      "inside layer\n",
      "inside layer\n",
      "inside layer\n",
      "WARNING:tensorflow:From <ipython-input-6-8bb28c0902cf>:15: softmax_cross_entropy_with_logits (from tensorflow.python.ops.nn_ops) is deprecated and will be removed in a future version.\n",
      "Instructions for updating:\n",
      "\n",
      "Future major versions of TensorFlow will allow gradients to flow\n",
      "into the labels input on backprop by default.\n",
      "\n",
      "See `tf.nn.softmax_cross_entropy_with_logits_v2`.\n",
      "\n",
      "INFO:tensorflow:Restoring parameters from ./logs/multi_layer/model-checkpoint-98280\n",
      "inside layer\n",
      "inside layer\n",
      "inside layer\n",
      "[7.712475, 2.555974]\n"
     ]
    },
    {
     "data": {
      "image/png": "[encoded data removed]",
      "text/plain": [
       "<Figure size 432x288 with 1 Axes>"
      ]
     },
     "metadata": {
      "needs_background": "light"
     },
     "output_type": "display_data"
    }
   ],
   "source": [
    "            \n",
    "#the input variables are first define as placeholder \n",
    "# a placeholder is a variable/data which will be assigned later \n",
    "# image vector & label\n",
    "x = tf.placeholder(\"float\", [None, 784]) # mnist data image of shape 28*28=784\n",
    "y = tf.placeholder(\"float\", [None, 10]) # 0-9 digits recognition => 10 classes\n",
    "\n",
    "\n",
    "if not os.path.isdir('./logs/'):\n",
    "    os.makedirs('./logs/')\n",
    "log_files_path = './logs/'\n",
    "    \n",
    "#defines a session\n",
    "sess = tf.Session()\n",
    "\n",
    "\n",
    "with tf.variable_scope(\"multi_layer_2\", reuse=tf.AUTO_REUSE):\n",
    "    #opt neural network definition\n",
    "    \n",
    "    #the network is defined using the inference function defined above in the code\n",
    "    output_opt = inference(x)\n",
    "    \n",
    "    #compute the cost \n",
    "    cost_opt = loss(output_opt, y)\n",
    "    \n",
    "    saver = tf.train.Saver() \n",
    "    \n",
    "    var_list_opt = [\"hidden_layer_1/W\", \"hidden_layer_1/b\",\n",
    "                    \"hidden_layer_2/W\", \"hidden_layer_2/b\", \n",
    "                    \"output/W\", \"output/b\"]\n",
    "    \n",
    "    var_list_opt = [tf.get_variable(v) for v in var_list_opt]\n",
    "    \n",
    "    #--------------------------------------------------------------------------------\n",
    "    # restore values of parameters saved previously\n",
    "    # remember to download the model checkpoints files from canvas and save them in the corresponding path\n",
    "    \n",
    "    # important: your check point number may be different from this one\n",
    "    saver.restore(sess, log_files_path + 'multi_layer_2/model-checkpoint-98280')\n",
    "    #----------------------------------------------------------------------------------------\n",
    "\n",
    "\n",
    "    \n",
    "with tf.variable_scope(\"multi_layer_init\", reuse=tf.AUTO_REUSE):\n",
    "    #rand neural network definition\n",
    "    \n",
    "    #the network is defined using the inference function defined above in the code\n",
    "    output_rand = inference(x)\n",
    "    #compute the rand cost\n",
    "    cost_rand = loss(output_rand, y)\n",
    "    \n",
    "    var_list_rand = [\"hidden_layer_1/W\", \"hidden_layer_1/b\", \n",
    "                     \"hidden_layer_2/W\", \"hidden_layer_2/b\", \n",
    "                     \"output/W\", \"output/b\"]\n",
    "    \n",
    "    var_list_rand = [tf.get_variable(v) for v in var_list_rand]\n",
    "    \n",
    "    #initialization of the variables\n",
    "    init_op = tf.variables_initializer(var_list_rand)\n",
    "    \n",
    "    sess.run(init_op)\n",
    "\n",
    "    \n",
    "\n",
    "#dictionary for the test dataset \n",
    "#used to evaluate accuracy \n",
    "feed_dict = {\n",
    "        x: x_test,\n",
    "        y: y_test,\n",
    "}\n",
    "\n",
    "\n",
    "#compute the loss for opt and rand networks\n",
    "print(sess.run([cost_opt, cost_rand], feed_dict=feed_dict))\n",
    "\n",
    "\n",
    "with tf.variable_scope(\"multi_layer_inter\") as scope:\n",
    "    #initialize the placeholder alpha coefficient \n",
    "    #a placeholder is a variable/data which will be assigned later \n",
    "    alpha = tf.placeholder(\"float\", [1, 1])\n",
    "    \n",
    "    #the coefficients of the opt and rand networks are modulated with the alpha coefficient\n",
    "    h1_W_inter = var_list_opt[0] * (1.0 - alpha) + var_list_rand[0] * (alpha)\n",
    "    h1_b_inter = var_list_opt[1] * (1.0 - alpha) + var_list_rand[1] * (alpha)\n",
    "    #\n",
    "    h2_W_inter = var_list_opt[2] * (1.0 - alpha) + var_list_rand[2] * (alpha)\n",
    "    h2_b_inter = var_list_opt[3] * (1.0 - alpha) + var_list_rand[3] * (alpha)\n",
    "    #\n",
    "    o_W_inter  = var_list_opt[4] * (1.0 - alpha) + var_list_rand[4] * (alpha)\n",
    "    o_b_inter  = var_list_opt[5] * (1.0 - alpha) + var_list_rand[5] * (alpha)\n",
    "    \n",
    "    h1_inter = tf.nn.relu(tf.matmul(x,        h1_W_inter) + h1_b_inter)\n",
    "    h2_inter = tf.nn.relu(tf.matmul(h1_inter, h2_W_inter) + h2_b_inter)\n",
    "    o_inter  = tf.nn.relu(tf.matmul(h2_inter, o_W_inter ) + o_b_inter)\n",
    "    \n",
    "    cost_inter = loss(o_inter, y)\n",
    "    tf.summary.scalar(\"interpolated_cost\", cost_inter)  \n",
    "    \n",
    "#save the parameters for plotting in tensorboard\n",
    "summary_writer = tf.summary.FileWriter(log_files_path + 'linear_interpolation_2/', sess.graph)\n",
    "summary_op = tf.summary.merge_all()\n",
    "\n",
    "#list to save the results of the following for loop\n",
    "results = []\n",
    "alphaMin = -2\n",
    "alphaMax = 2\n",
    "alphaStep = 0.01\n",
    "for a in np.arange(alphaMin, alphaMax, alphaStep):\n",
    "    #test data with different values of alpha coefficient\n",
    "    feed_dict = {\n",
    "            x: x_test,\n",
    "            y: y_test,\n",
    "            alpha: [[a]],\n",
    "            }\n",
    "    #compute the loss for the different value of alpha\n",
    "    [cost, summary_str] = sess.run([cost_inter, summary_op], feed_dict=feed_dict)\n",
    "    summary_writer.add_summary(summary_str, (a + alphaMax)/alphaStep)\n",
    "    results.append(cost)\n",
    "\n",
    "plt.plot(np.arange(alphaMin, alphaMax, alphaStep), results, 'ro')\n",
    "plt.ylabel('Error')\n",
    "plt.xlabel('Alpha')\n",
    "plt.show()"
   ]
  },
  {
   "cell_type": "code",
   "execution_count": 0,
   "metadata": {
    "colab": {},
    "colab_type": "code",
    "id": "_dLmgWYWBQ0Q"
   },
   "outputs": [],
   "source": []
  }
 ],
 "metadata": {
  "colab": {
   "name": "example_interpolation_2.ipynb",
   "provenance": []
  },
  "kernelspec": {
   "display_name": "Python 3",
   "language": "python",
   "name": "python3"
  },
  "language_info": {
   "codemirror_mode": {
    "name": "ipython",
    "version": 3
   },
   "file_extension": ".py",
   "mimetype": "text/x-python",
   "name": "python",
   "nbconvert_exporter": "python",
   "pygments_lexer": "ipython3",
   "version": "3.7.6"
  },
  "toc": {
   "nav_menu": {},
   "number_sections": true,
   "sideBar": true,
   "skip_h1_title": false,
   "title_cell": "Table of Contents",
   "title_sidebar": "Contents",
   "toc_cell": false,
   "toc_position": {},
   "toc_section_display": true,
   "toc_window_display": false
  },
  "varInspector": {
   "cols": {
    "lenName": 16,
    "lenType": 16,
    "lenVar": 40
   },
   "kernels_config": {
    "python": {
     "delete_cmd_postfix": "",
     "delete_cmd_prefix": "del ",
     "library": "var_list.py",
     "varRefreshCmd": "print(var_dic_list())"
    },
    "r": {
     "delete_cmd_postfix": ") ",
     "delete_cmd_prefix": "rm(",
     "library": "var_list.r",
     "varRefreshCmd": "cat(var_dic_list()) "
    }
   },
   "types_to_exclude": [
    "module",
    "function",
    "builtin_function_or_method",
    "instance",
    "_Feature"
   ],
   "window_display": false
  }
 },
 "nbformat": 4,
 "nbformat_minor": 1
}
