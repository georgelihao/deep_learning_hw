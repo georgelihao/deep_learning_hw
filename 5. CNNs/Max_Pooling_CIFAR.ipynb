{
 "cells": [
  {
   "cell_type": "markdown",
   "metadata": {
    "colab_type": "text",
    "id": "hh9O9OWWZcXA"
   },
   "source": [
    "# Import"
   ]
  },
  {
   "cell_type": "code",
   "execution_count": 1,
   "metadata": {
    "colab": {},
    "colab_type": "code",
    "id": "BL-sazgGZcXC"
   },
   "outputs": [
    {
     "name": "stdout",
     "output_type": "stream",
     "text": [
      "2.7.0\n"
     ]
    }
   ],
   "source": [
    "%matplotlib inline\n",
    "import os\n",
    "\n",
    "import tensorflow as tf\n",
    "import tensorflow.compat.v1 as tf\n",
    "#tf.compat.v1.disable_eager_execution()\n",
    "print(tf.__version__)\n",
    "\n",
    "import numpy as np\n",
    "import scipy.misc\n",
    "\n",
    "import matplotlib\n",
    "import matplotlib.pyplot as plt \n",
    "\n",
    "import time"
   ]
  },
  {
   "cell_type": "code",
   "execution_count": 2,
   "metadata": {},
   "outputs": [
    {
     "name": "stdout",
     "output_type": "stream",
     "text": [
      "\n",
      "Loading CIFAR10\n",
      "\n",
      "Spliting data\n",
      "45000 5000 10000\n"
     ]
    }
   ],
   "source": [
    "# The CIFAR-10 dataset (Canadian Institute For Advanced Research) is a collection of images \n",
    "# that are commonly used to train machine learning and computer vision algorithms\n",
    "\n",
    "# generate original training and test data\n",
    "# The CIFAR-10 dataset consists of 60000 32x32 colour images in 10 classes, \n",
    "# with 6000 images per class. \n",
    "# There are 50000 training images and 10000 test images.\n",
    "img_size = 32\n",
    "img_chan = 3\n",
    "n_classes = 10\n",
    "\n",
    "learning_rate = 0.05\n",
    "#global_step = \n",
    "input_size = 32*32*3\n",
    "output_size = 10\n",
    "\n",
    "\n",
    "print('\\nLoading CIFAR10')\n",
    "\n",
    "cifar10 = tf.keras.datasets.cifar10\n",
    "(x_train, y_train), (x_test, y_test) = cifar10.load_data()\n",
    "\n",
    "#x_train = np.reshape(x_train, [-1, img_size, img_size, img_chan])\n",
    "#x_test = np.reshape(x_test, [-1, img_size, img_size, img_chan])\n",
    "\n",
    "x_train = np.reshape(x_train, [-1, img_size*img_size*3])\n",
    "x_train = x_train.astype(np.float32) / 255\n",
    "\n",
    "x_test = np.reshape(x_test, [-1, img_size*img_size*3])\n",
    "x_test = x_test.astype(np.float32) / 255\n",
    "\n",
    "to_categorical = tf.keras.utils.to_categorical \n",
    "y_train = to_categorical(y_train)\n",
    "y_test = to_categorical(y_test)\n",
    "\n",
    "print('\\nSpliting data')\n",
    "\n",
    "ind = np.random.permutation(x_train.shape[0])\n",
    "x_train, y_train = x_train[ind], y_train[ind] \n",
    "\n",
    "validatationPct = 0.1\n",
    "n = int(x_train.shape[0] * (1-validatationPct))\n",
    "x_valid = x_train[n:]\n",
    "x_train = x_train[:n]\n",
    "y_valid = y_train[n:]\n",
    "y_train = y_train[:n] \n",
    "\n",
    "train_num_examples = x_train.shape[0]\n",
    "valid_num_examples = x_valid.shape[0]\n",
    "test_num_examples  = x_test.shape[0]\n",
    "\n",
    "print(train_num_examples, valid_num_examples, test_num_examples)"
   ]
  },
  {
   "cell_type": "markdown",
   "metadata": {
    "colab_type": "text",
    "id": "sCkE6UE4ZcXG"
   },
   "source": [
    "# Load Image"
   ]
  },
  {
   "cell_type": "code",
   "execution_count": 3,
   "metadata": {
    "colab": {},
    "colab_type": "code",
    "id": "LGmENz4XZcXI"
   },
   "outputs": [
    {
     "name": "stdout",
     "output_type": "stream",
     "text": [
      "Label: 1\n"
     ]
    }
   ],
   "source": [
    "index = 1056\n",
    "\n",
    "img = x_train[index]\n",
    "label = y_train[index]\n",
    "\n",
    "print('Label:', np.argmax(label))"
   ]
  },
  {
   "cell_type": "markdown",
   "metadata": {
    "colab_type": "text",
    "id": "XC4h4tLdZcXL"
   },
   "source": [
    "# Plot with shape 32 x 32"
   ]
  },
  {
   "cell_type": "code",
   "execution_count": 4,
   "metadata": {
    "colab": {},
    "colab_type": "code",
    "id": "uCUN_TeqZcXL"
   },
   "outputs": [
    {
     "name": "stdout",
     "output_type": "stream",
     "text": [
      "Shape before: (3072,)\n",
      "Shape after: (32, 32, 3)\n"
     ]
    },
    {
     "data": {
      "image/png": "[encoded data removed]",
      "text/plain": [
       "<Figure size 432x288 with 1 Axes>"
      ]
     },
     "metadata": {
      "needs_background": "light"
     },
     "output_type": "display_data"
    }
   ],
   "source": [
    "print('Shape before:', img.shape)\n",
    "img = img.reshape(32, 32, 3)\n",
    "#the image are stored as vector, need to convert in matrix in order to visualize it\n",
    "print('Shape after:',img.shape)\n",
    "plt.imshow(img)\n",
    "plt.show()\n",
    "\n",
    "\n"
   ]
  },
  {
   "cell_type": "markdown",
   "metadata": {
    "colab_type": "text",
    "id": "CFTMK5o_ZcXO"
   },
   "source": [
    "# Max Pooling with Various Windows, 'same' padding"
   ]
  },
  {
   "cell_type": "code",
   "execution_count": 5,
   "metadata": {
    "colab": {},
    "colab_type": "code",
    "id": "aPxarIlCZcXO"
   },
   "outputs": [
    {
     "name": "stdout",
     "output_type": "stream",
     "text": [
      "New Shape: (31, 31, 3)\n"
     ]
    },
    {
     "data": {
      "text/plain": [
       "<matplotlib.image.AxesImage at 0x23e562a0588>"
      ]
     },
     "execution_count": 5,
     "metadata": {},
     "output_type": "execute_result"
    },
    {
     "data": {
      "image/png": "[encoded data removed]",
      "text/plain": [
       "<Figure size 432x288 with 1 Axes>"
      ]
     },
     "metadata": {
      "needs_background": "light"
     },
     "output_type": "display_data"
    }
   ],
   "source": [
    "'''\n",
    "\n",
    "p_max = tf.nn.pool(input=img.reshape(1,32,32,1,3), #reshape to fit the input of tf.nn.pool, (batch_size, img shape, img shape, channel)\n",
    "    window_shape=[2, 2, 1],\n",
    "    pooling_type=\"MAX\",\n",
    "    padding=\"VALID\",\n",
    "    strides=[2,2])\n",
    "\n",
    "'''\n",
    "\n",
    "\n",
    "p_max = tf.nn.pool(input=img.reshape(1,32,32,1,3), #reshape to fit the input of tf.nn.pool, (batch_size, img shape, img shape, channel)\n",
    "    window_shape=[2, 2, 1],\n",
    "    pooling_type=\"MAX\",\n",
    "    padding=\"VALID\",\n",
    "    strides=None)\n",
    "\n",
    "#remove the first and last dimension added by the reshape\n",
    "p_max = tf.squeeze(p_max, [0, 3])\n",
    "print('New Shape:', p_max.shape)\n",
    "\n",
    "plt.imshow(p_max)"
   ]
  },
  {
   "cell_type": "markdown",
   "metadata": {},
   "source": [
    "# Average Pooling"
   ]
  },
  {
   "cell_type": "code",
   "execution_count": 6,
   "metadata": {
    "colab": {},
    "colab_type": "code",
    "id": "X_uKqWJNZcXS"
   },
   "outputs": [
    {
     "name": "stdout",
     "output_type": "stream",
     "text": [
      "New Shape: (32, 32, 3)\n"
     ]
    },
    {
     "data": {
      "text/plain": [
       "<matplotlib.image.AxesImage at 0x23e563178c8>"
      ]
     },
     "execution_count": 6,
     "metadata": {},
     "output_type": "execute_result"
    },
    {
     "data": {
      "image/png": "[encoded data removed]",
      "text/plain": [
       "<Figure size 432x288 with 1 Axes>"
      ]
     },
     "metadata": {
      "needs_background": "light"
     },
     "output_type": "display_data"
    }
   ],
   "source": [
    "'''\n",
    "p_avg = tf.nn.pool(input=img.reshape(1,32,32,1,3), #reshape to fit the input of tf.nn.pool, (batch_size, img shape, img shape, channel)\n",
    "    window_shape=[2, 2],\n",
    "    pooling_type=\"AVG\",\n",
    "    padding=\"SAME\", \n",
    "    strides=[2,2])\n",
    "\n",
    "'''\n",
    "\n",
    "\n",
    "p_avg = tf.nn.pool(input=img.reshape(1,32,32,3,1), #reshape to fit the input of tf.nn.pool, (batch_size, img shape, img shape, channel)\n",
    "    window_shape=[2, 2, 1],\n",
    "    pooling_type=\"AVG\",\n",
    "    padding=\"SAME\", \n",
    "    strides=None)\n",
    "\n",
    "#remove the first and last dimension added by the reshape\n",
    "p_avg = tf.squeeze(p_avg, [0, 4])\n",
    "print('New Shape:', p_avg.shape)\n",
    "\n",
    "plt.imshow(p_avg)"
   ]
  },
  {
   "cell_type": "code",
   "execution_count": null,
   "metadata": {},
   "outputs": [],
   "source": []
  }
 ],
 "metadata": {
  "colab": {
   "collapsed_sections": [],
   "name": "Max_Pooling_CIFAR.ipynb",
   "provenance": [],
   "version": "0.3.2"
  },
  "kernelspec": {
   "display_name": "Python 3",
   "language": "python",
   "name": "python3"
  },
  "language_info": {
   "codemirror_mode": {
    "name": "ipython",
    "version": 3
   },
   "file_extension": ".py",
   "mimetype": "text/x-python",
   "name": "python",
   "nbconvert_exporter": "python",
   "pygments_lexer": "ipython3",
   "version": "3.7.6"
  }
 },
 "nbformat": 4,
 "nbformat_minor": 1
}
